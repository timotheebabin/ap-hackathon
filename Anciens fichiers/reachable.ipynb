{
 "cells": [
  {
   "cell_type": "code",
   "execution_count": null,
   "id": "5b280515-f8bd-4489-a968-d99edabe3be4",
   "metadata": {},
   "outputs": [],
   "source": [
    "import numpy as np"
   ]
  },
  {
   "cell_type": "code",
   "execution_count": 14,
   "id": "cf14317c-89c1-41e6-b34d-e2018d006031",
   "metadata": {},
   "outputs": [],
   "source": [
    "\"\"\"\n",
    "Principe de la fonction : on se convainc facilement, en manipulant le taquin, qu'en déplaçant un numéro,\n",
    "on le déplace toujours de 0 (mouvement horizontal) ou 2 places (mouvement vertical) dans la liste de 1 à 8.\n",
    "Par exemple :\n",
    "1 2 3     1 0 3\n",
    "4 0 5 --> 4 2 5\n",
    "7 8 6     7 8 6\n",
    "\n",
    "revient à passer de la liste [1,2,3,4,5,7,8,6]\n",
    "à la liste [1,3,4,2,5,7,8,6]\n",
    "On a déplacé 2 de deux positions.\n",
    "\n",
    "BREF : on n'effectue JAMAIS une seule transposée (de signature -1), et toujours zéro ou deux (de signature 1)\n",
    "... il suffit de caculer la signature de la permutation. Si c'est -1, unreachable, si c'est 1, reachable.\n",
    "\n",
    "Pour une démonstration rigoureuse, euh plus tard\n",
    "\"\"\"\n",
    "\n",
    "#Cette fonction renvoie un bool indiquant si le board est atteignable.\n",
    "def is_reachable(given_board):\n",
    "    assert type(given_board)==np.ndarray or type(given_board)==list, \"il faut un tableau numpy ou une liste\"\n",
    "    #on commence par convertir tout cela en un tableau array linéaire de 8 cases\n",
    "    board = np.array([0 for i in range(8)])\n",
    "    k=0\n",
    "    given_board2=given_board.copy() #pour éviter les effets colatéraux\n",
    "    if type(given_board2)==np.ndarray and given_board2.shape==(3,3) :\n",
    "        given_board2.reshape(9)\n",
    "    else if type(given_board2)==list :\n",
    "        given_board2=np.array(given_board2)\n",
    "    for i in range(9):\n",
    "        a=given_board2[i]\n",
    "        if a!=0:\n",
    "            board[k]=a\n",
    "            k+=1\n",
    "    \n",
    "    #maintenant, on calcule la signature\n",
    "    #Pour épargner au code des calculs sur des floats, on préfère faire des batteries de test.\n",
    "    epsilon=1\n",
    "    for i in range(1,8):\n",
    "        for j in range(i+1,9):\n",
    "            sigmai=board[i-1]\n",
    "            sigmaj=board[j-1]\n",
    "            if ((i<j and sigmai>sigmaj) or (i>j and sigmai<sigmaj)):\n",
    "                epsilon*=(-1)\n",
    "    #On conclut\n",
    "    if epsilon==1:\n",
    "        return True\n",
    "    else :\n",
    "        return False"
   ]
  },
  {
   "cell_type": "code",
   "execution_count": 23,
   "id": "116e5041-601c-4acc-bee3-aee07eb79d88",
   "metadata": {},
   "outputs": [
    {
     "data": {
      "text/plain": [
       "True"
      ]
     },
     "execution_count": 23,
     "metadata": {},
     "output_type": "execute_result"
    }
   ],
   "source": [
    "is_reachable(np.array([1,2,3,4,5,6,7,8,0]))"
   ]
  },
  {
   "cell_type": "code",
   "execution_count": 24,
   "id": "5669fb98-5e5a-4c94-acfc-0a7ccf2858a5",
   "metadata": {},
   "outputs": [
    {
     "data": {
      "text/plain": [
       "False"
      ]
     },
     "execution_count": 24,
     "metadata": {},
     "output_type": "execute_result"
    }
   ],
   "source": [
    "is_reachable(np.array([2,1,3,4,5,6,7,8,0]))"
   ]
  },
  {
   "cell_type": "code",
   "execution_count": 25,
   "id": "b8ba2333-47d5-4df8-9a34-cb8c14345cf7",
   "metadata": {},
   "outputs": [
    {
     "data": {
      "text/plain": [
       "False"
      ]
     },
     "execution_count": 25,
     "metadata": {},
     "output_type": "execute_result"
    }
   ],
   "source": [
    "is_reachable(np.array([1,4,2,3,8,5,6,0,7]))"
   ]
  },
  {
   "cell_type": "code",
   "execution_count": 26,
   "id": "4718d6da-ef85-45ef-ad94-a1f47a94c62c",
   "metadata": {},
   "outputs": [
    {
     "data": {
      "text/plain": [
       "True"
      ]
     },
     "execution_count": 26,
     "metadata": {},
     "output_type": "execute_result"
    }
   ],
   "source": [
    "is_reachable(np.array([1,4,2,3,8,6,5,0,7]))"
   ]
  },
  {
   "cell_type": "code",
   "execution_count": 27,
   "id": "f682a787-a2c5-427f-b7b2-3b6617d97fb9",
   "metadata": {},
   "outputs": [
    {
     "data": {
      "text/plain": [
       "False"
      ]
     },
     "execution_count": 27,
     "metadata": {},
     "output_type": "execute_result"
    }
   ],
   "source": [
    "is_reachable(np.array([1,4,8,2,3,5,6,0,7]))"
   ]
  },
  {
   "cell_type": "code",
   "execution_count": 28,
   "id": "438cbd76-9833-42b9-8274-465f4fd4ffd1",
   "metadata": {},
   "outputs": [
    {
     "data": {
      "text/plain": [
       "False"
      ]
     },
     "execution_count": 28,
     "metadata": {},
     "output_type": "execute_result"
    }
   ],
   "source": [
    "is_reachable(np.array([5,3,7,6,1,0,4,8,2]))"
   ]
  }
 ],
 "metadata": {
  "kernelspec": {
   "display_name": "Python 3 (ipykernel)",
   "language": "python",
   "name": "python3"
  },
  "language_info": {
   "codemirror_mode": {
    "name": "ipython",
    "version": 3
   },
   "file_extension": ".py",
   "mimetype": "text/x-python",
   "name": "python",
   "nbconvert_exporter": "python",
   "pygments_lexer": "ipython3",
   "version": "3.12.4"
  }
 },
 "nbformat": 4,
 "nbformat_minor": 5
}
